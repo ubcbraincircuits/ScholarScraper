{
 "cells": [
  {
   "cell_type": "markdown",
   "id": "c6f442bd-1a42-4b96-aaff-b7d28fffbea8",
   "metadata": {},
   "source": [
    "![DBC](Images/DBC.png)\n",
    "\n",
    "# Scholar Metrics Scraper: GroupedCollabs notebook\n",
    "\n",
    "**Introduction**\n",
    "\n",
    "This R notebook creates a **grouped** chord diagram to visualize publication collaborations between coauthors. It creates links between authors and their coauthors from the output CSV file created by the ScholarScraper.ipynb notebook. It also takes another CSV file as input to specify each author's group. This notebook should be run after the ScholarScraper notebook. If you do not want a grouped diagram, use ScholarCollabs.ipynb. \n",
    "\n",
    "**Installation and Setup**\n",
    "1. At this point we will assume you have this project loaded in Jupyter and have successfully run the ScholarScraper notebook, which has created an output CSV file with author data. If this is not the case, go to the ScholarScraper.ipynb file and follow the instructions to setup and run. \n",
    "\n",
    "2. Ensure that the CSV file created by ScholarScraper is in the same directory as this notebook. Make sure it has a column labeled 'Name' and a column labeled 'Coauthors'. \n",
    "\n",
    "3. Create a CSV file for the groupings. This should contain the author names in the first column, the group names as column names, and the author names under their respective groups (see the example below). The names in this file should match the names in the CSV file created by ScholarScraper. Upload this CSV to the project directory (the same directory as this notebook file). \n",
    "![Groupings](Images/ExampleGroupCSV.png)\n",
    "\n",
    "\n"
   ]
  },
  {
   "cell_type": "markdown",
   "id": "50c2ae0c-8e38-4cea-89e1-f55b82fddfdc",
   "metadata": {},
   "source": [
    "**Steps**\n",
    "\n",
    "\n",
    "1. Install and load libraries"
   ]
  },
  {
   "cell_type": "code",
   "execution_count": 1,
   "id": "a9e80f87",
   "metadata": {
    "vscode": {
     "languageId": "r"
    }
   },
   "outputs": [],
   "source": [
    "### Uncomment and install packages if necessary ###\n",
    "\n",
    "# devtools::install_github(\"thomasp85/patchwork\")\n",
    "# devtools::install_github(\"jokergoo/circlize\")\n",
    "# install.packages(\"RColorBrewer\")"
   ]
  },
  {
   "cell_type": "code",
   "execution_count": 2,
   "id": "0b8f7647-2f14-4e3e-99b0-df093190f2ee",
   "metadata": {
    "vscode": {
     "languageId": "r"
    }
   },
   "outputs": [
    {
     "name": "stderr",
     "output_type": "stream",
     "text": [
      "── \u001b[1mAttaching core tidyverse packages\u001b[22m ──────────────────────── tidyverse 2.0.0 ──\n",
      "\u001b[32m✔\u001b[39m \u001b[34mdplyr    \u001b[39m 1.1.2     \u001b[32m✔\u001b[39m \u001b[34mreadr    \u001b[39m 2.1.4\n",
      "\u001b[32m✔\u001b[39m \u001b[34mforcats  \u001b[39m 1.0.0     \u001b[32m✔\u001b[39m \u001b[34mstringr  \u001b[39m 1.5.0\n",
      "\u001b[32m✔\u001b[39m \u001b[34mggplot2  \u001b[39m 3.4.2     \u001b[32m✔\u001b[39m \u001b[34mtibble   \u001b[39m 3.2.1\n",
      "\u001b[32m✔\u001b[39m \u001b[34mlubridate\u001b[39m 1.9.2     \u001b[32m✔\u001b[39m \u001b[34mtidyr    \u001b[39m 1.3.0\n",
      "\u001b[32m✔\u001b[39m \u001b[34mpurrr    \u001b[39m 1.0.2     \n",
      "── \u001b[1mConflicts\u001b[22m ────────────────────────────────────────── tidyverse_conflicts() ──\n",
      "\u001b[31m✖\u001b[39m \u001b[34mdplyr\u001b[39m::\u001b[32mfilter()\u001b[39m masks \u001b[34mstats\u001b[39m::filter()\n",
      "\u001b[31m✖\u001b[39m \u001b[34mdplyr\u001b[39m::\u001b[32mlag()\u001b[39m    masks \u001b[34mstats\u001b[39m::lag()\n",
      "\u001b[36mℹ\u001b[39m Use the conflicted package (\u001b[3m\u001b[34m<http://conflicted.r-lib.org/>\u001b[39m\u001b[23m) to force all conflicts to become errors\n",
      "Loading required package: viridisLite\n",
      "\n",
      "========================================\n",
      "circlize version 0.4.16\n",
      "CRAN page: https://cran.r-project.org/package=circlize\n",
      "Github page: https://github.com/jokergoo/circlize\n",
      "Documentation: https://jokergoo.github.io/circlize_book/book/\n",
      "\n",
      "If you use it in published research, please cite:\n",
      "Gu, Z. circlize implements and enhances circular visualization\n",
      "  in R. Bioinformatics 2014.\n",
      "\n",
      "This message can be suppressed by:\n",
      "  suppressPackageStartupMessages(library(circlize))\n",
      "========================================\n",
      "\n",
      "\n"
     ]
    }
   ],
   "source": [
    "library(tidyverse)\n",
    "library(viridis)\n",
    "library(patchwork)\n",
    "library(circlize)\n",
    "library(RColorBrewer)\n",
    "\n"
   ]
  },
  {
   "cell_type": "markdown",
   "id": "f2842a5d-6225-4fa3-9070-b9d68a569821",
   "metadata": {},
   "source": [
    "2. Define the name of the data file (CSV created by Scholar Scraper), investigator names CSV file, and group CSV file"
   ]
  },
  {
   "cell_type": "code",
   "execution_count": 3,
   "id": "514ef364-911c-4691-be89-86ea515fe665",
   "metadata": {
    "vscode": {
     "languageId": "r"
    }
   },
   "outputs": [],
   "source": [
    "# !!! Modify this to match the name of the CSV file that was created as output form the ScholarScraper notebook\n",
    "ss_output_file = \"ss_output_data.csv\"\n",
    "# !!! Modify this to match the name of your groupings CSV file. See instructions above. \n",
    "group_file = \"dbc_faculty_groups.csv\""
   ]
  },
  {
   "cell_type": "markdown",
   "id": "c370a661-a832-4264-9eb9-3d54172fab04",
   "metadata": {},
   "source": [
    "3. Define the title, colors, and whether you want to create weighted or non-weighted diagram. \n",
    "\n",
    "    View color options [here](http://www.stat.columbia.edu/~tzheng/files/Rcolor.pdf)."
   ]
  },
  {
   "cell_type": "code",
   "execution_count": 4,
   "id": "4ce25601-644b-4bcf-a0f1-fd2cc7379719",
   "metadata": {
    "vscode": {
     "languageId": "r"
    }
   },
   "outputs": [],
   "source": [
    "# !!! Modify the diagram title\n",
    "title = \"Google Scholar Dynamic Brain Circuits Grouped by Faculty\"\n",
    "\n",
    "# !!! Modify the colour palette. Make sure there are the same number of colours as groups. \n",
    "c_pallete = c(\"red\",\"green\",\"blue\",\"cyan\",\"magenta\")\n",
    "\n",
    "# !!! Modify the group names. These groups will be paired with the colours in the c_palette, in the same order. \n",
    "group_names = c(\"Faculty of Medicine\", \n",
    "                               \"Faculty of Applied Science\",\n",
    "                               \"Faculty of Science\", \n",
    "                               \"Faculty of Arts\", \n",
    "                               \"Cascadia\")\n",
    "\n",
    "# !!! Modify this - Set to TRUE if you want a weighted diagram or FALSE if you want a non-weighted diagram.\n",
    "weighted = TRUE "
   ]
  },
  {
   "cell_type": "markdown",
   "id": "a61e4022-e3c4-48c8-a64d-834a9669bb08",
   "metadata": {},
   "source": [
    "4. Load in collaboration data"
   ]
  },
  {
   "cell_type": "code",
   "execution_count": 5,
   "id": "fb50c617-0297-47bf-9f26-c22405c2d957",
   "metadata": {
    "tags": [],
    "vscode": {
     "languageId": "r"
    }
   },
   "outputs": [],
   "source": [
    "df_collab = read.csv(ss_output_file)\n"
   ]
  },
  {
   "cell_type": "markdown",
   "id": "fc9ce449-e53a-42b9-8a09-16470d7e5a27",
   "metadata": {},
   "source": [
    "5. Tidy the df_collab dataframe"
   ]
  },
  {
   "cell_type": "code",
   "execution_count": 6,
   "id": "81d0642c-bcda-4e48-bbe1-e844cc26871b",
   "metadata": {
    "vscode": {
     "languageId": "r"
    }
   },
   "outputs": [],
   "source": [
    "# creating a subset of our survey data that extracts the useful columns. \n",
    "df_collab = subset(df_collab, select = c(Name, Coauthors))\n",
    "\n",
    "# get rid of rows containing NAs\n",
    "df_collab=df_collab[rowSums(is.na(df_collab)) != ncol(df_collab), ]"
   ]
  },
  {
   "cell_type": "markdown",
   "id": "ae22663d-6646-4b93-ba0d-07fa0f99105b",
   "metadata": {},
   "source": [
    "6. Set up the links"
   ]
  },
  {
   "cell_type": "code",
   "execution_count": 7,
   "id": "e4015ec1-b38b-4bb9-a176-632a1a9fb6d2",
   "metadata": {
    "vscode": {
     "languageId": "r"
    }
   },
   "outputs": [],
   "source": [
    "##### create an edge list using for loop. ####\n",
    "origin = c()\n",
    "destination = c()\n",
    "count = c()\n",
    "\n",
    "for (i in 1:nrow(df_collab)) {\n",
    "  x = df_collab$Name[i]\n",
    "  for (n in 1:nrow(df_collab)) {\n",
    "    if(is.na(df_collab$Coauthors[n]) == FALSE) {\n",
    "      if(str_detect(df_collab$Coauthors[n], x) == TRUE) {\n",
    "        origin = append(origin, df_collab$Name[n])\n",
    "        destination = append(destination, x)\n",
    "#       extracts digits that come after author name in df_collab$Coauthors[n]\n",
    "        count = append(count, strtoi(\n",
    "            str_extract(df_collab$Coauthors[n],paste(\"(?<=\", df_collab$Name[i], \"\\': )\\\\d+\", sep=\"\"))))\n",
    "      }\n",
    "    }\n",
    "  }\n",
    "}\n",
    "\n",
    "edge_l = data.frame(origin, destination, count)\n",
    "# cleaning up the edge list by removing duplicates\n",
    "edge_l = unique(edge_l)\n",
    "edge_l$temp = apply(edge_l, 1, function(x) paste(sort(x), collapse=\"\"))\n",
    "edge_l = edge_l[!duplicated(edge_l$temp), 1:3]\n",
    "                    \n",
    "# create an adjacency list. \n",
    "adjacencyData = data.frame(with(edge_l, table(origin, destination)))\n",
    "                    \n",
    "# set the links to the edge list for a weighted diagram or adjacency list for non-weighted\n",
    "if (weighted == TRUE){\n",
    "    links = edge_l\n",
    "} else {\n",
    "    links = adjacencyData\n",
    "}"
   ]
  },
  {
   "cell_type": "markdown",
   "id": "87ab4f4b-b037-4f66-a5d6-2e15cbfcde8b",
   "metadata": {},
   "source": [
    "7. Set up the groupings"
   ]
  },
  {
   "cell_type": "code",
   "execution_count": 11,
   "id": "d7daa448-bf7e-4f91-ac00-59e4b7e77342",
   "metadata": {
    "vscode": {
     "languageId": "r"
    }
   },
   "outputs": [],
   "source": [
    "# loading in the group names\n",
    "df_group = read.csv(group_file)\n",
    "\n",
    "\n",
    "# Setting up group names\n",
    "Primary_c = colnames(df_group)[-1]\n",
    "\n",
    "# Removing unnecessary first column\n",
    "df_group <- df_group[,-1]\n",
    "\n",
    "# Creating a group column by pivoting \n",
    "df_group = df_group %>%\n",
    "  pivot_longer(Primary_c,\n",
    "               names_to = \"group\",\n",
    "               values_to = \"name\")\n",
    "\n",
    "# Removing NAs\n",
    "df_group[df_group==\"\"]<-NA\n",
    "df_group = na.omit(df_group)\n",
    "\n",
    "# Assigning a colour to each group. \n",
    "color =  c()\n",
    "                    \n",
    "for (i in 1:nrow(df_group)) {\n",
    "  for (j in 1:length(Primary_c)) {\n",
    "    if(df_group$group[i] == Primary_c[j]) {\n",
    "      color = append(color,c_pallete[j])\n",
    "    }\n",
    "  }\n",
    "}\n",
    "\n",
    "# adding the color column to the dataframe.\n",
    "df_group$color = color\n",
    "\n",
    "# creating the groupings\n",
    "group_ind = structure(df_group$group, names = df_group$name)\n",
    "\n",
    "# creating colors for the groupings\n",
    "color_ind = structure(df_group$color, names = df_group$name)"
   ]
  },
  {
   "cell_type": "code",
   "execution_count": 12,
   "id": "dc00fe98",
   "metadata": {
    "vscode": {
     "languageId": "r"
    }
   },
   "outputs": [
    {
     "data": {
      "text/html": [
       "<table class=\"dataframe\">\n",
       "<caption>A tibble: 46 × 3</caption>\n",
       "<thead>\n",
       "\t<tr><th scope=col>group</th><th scope=col>name</th><th scope=col>color</th></tr>\n",
       "\t<tr><th scope=col>&lt;chr&gt;</th><th scope=col>&lt;chr&gt;</th><th scope=col>&lt;chr&gt;</th></tr>\n",
       "</thead>\n",
       "<tbody>\n",
       "\t<tr><td>Faculty.of.Medicine       </td><td>Tim H. Murphy               </td><td>red    </td></tr>\n",
       "\t<tr><td>Faculty.of.Science        </td><td>Annie Vogel Ciernia         </td><td>blue   </td></tr>\n",
       "\t<tr><td>Faculty.of.Medicine       </td><td>Brian MacVicar              </td><td>red    </td></tr>\n",
       "\t<tr><td>Faculty.of.Medicine       </td><td>Fidel Vila-Rodriguez        </td><td>red    </td></tr>\n",
       "\t<tr><td>Faculty.of.Medicine       </td><td>Shernaz Bamji               </td><td>red    </td></tr>\n",
       "\t<tr><td>Faculty.of.Medicine       </td><td>Lara Boyd                   </td><td>red    </td></tr>\n",
       "\t<tr><td>Faculty.of.Medicine       </td><td>Paul Pavlidis               </td><td>red    </td></tr>\n",
       "\t<tr><td>Faculty.of.Medicine       </td><td>Martin J. McKeown           </td><td>red    </td></tr>\n",
       "\t<tr><td>Faculty.of.Medicine       </td><td>A Jon Stoessl OR jon Stoessl</td><td>red    </td></tr>\n",
       "\t<tr><td>Faculty.of.Applied.Science</td><td>Peter Cripton               </td><td>green  </td></tr>\n",
       "\t<tr><td>Faculty.of.Arts           </td><td>Jason S. Snyder             </td><td>cyan   </td></tr>\n",
       "\t<tr><td>Faculty.of.Science        </td><td>Wolfram Tetzlaff            </td><td>blue   </td></tr>\n",
       "\t<tr><td>Faculty.of.Medicine       </td><td>Anthony Phillips            </td><td>red    </td></tr>\n",
       "\t<tr><td>Faculty.of.Arts           </td><td>Catharine A. Winstanley     </td><td>cyan   </td></tr>\n",
       "\t<tr><td>Faculty.of.Medicine       </td><td>Yu Tian Wang                </td><td>red    </td></tr>\n",
       "\t<tr><td>Faculty.of.Medicine       </td><td>Jeremy K Seamans            </td><td>red    </td></tr>\n",
       "\t<tr><td>Faculty.of.Science        </td><td>Snutch                      </td><td>blue   </td></tr>\n",
       "\t<tr><td>Faculty.of.Medicine       </td><td>Ian Mackenzie               </td><td>red    </td></tr>\n",
       "\t<tr><td>Faculty.of.Medicine       </td><td>Lynn A Raymond              </td><td>red    </td></tr>\n",
       "\t<tr><td>Faculty.of.Medicine       </td><td>Kurt Haas                   </td><td>red    </td></tr>\n",
       "\t<tr><td>Faculty.of.Medicine       </td><td>Mark S. Cembrowski          </td><td>red    </td></tr>\n",
       "\t<tr><td>Faculty.of.Applied.Science</td><td>Fabio MV Rossi              </td><td>green  </td></tr>\n",
       "\t<tr><td>Faculty.of.Science        </td><td>A. Jane Roskams             </td><td>blue   </td></tr>\n",
       "\t<tr><td>Faculty.of.Arts           </td><td>Rankin Catharine H          </td><td>cyan   </td></tr>\n",
       "\t<tr><td>Faculty.of.Science        </td><td>Michael Gordon              </td><td>blue   </td></tr>\n",
       "\t<tr><td>Faculty.of.Science        </td><td>Leonid Sigal                </td><td>blue   </td></tr>\n",
       "\t<tr><td>Faculty.of.Applied.Science</td><td>Z. Jane Wang                </td><td>green  </td></tr>\n",
       "\t<tr><td>Faculty.of.Applied.Science</td><td>Peyman Servati              </td><td>green  </td></tr>\n",
       "\t<tr><td>Faculty.of.Arts           </td><td>Liisa Galea                 </td><td>cyan   </td></tr>\n",
       "\t<tr><td>Faculty.of.Medicine       </td><td>Sophia Frangou              </td><td>red    </td></tr>\n",
       "\t<tr><td>Faculty.of.Medicine       </td><td>Silke Appel-Cresswell       </td><td>red    </td></tr>\n",
       "\t<tr><td>Faculty.of.Science        </td><td>Helge Rhodin                </td><td>blue   </td></tr>\n",
       "\t<tr><td>Faculty.of.Applied.Science</td><td>Manu S Madhav               </td><td>green  </td></tr>\n",
       "\t<tr><td>Not.UBC                   </td><td>Brian D. Fisher             </td><td>magenta</td></tr>\n",
       "\t<tr><td>Not.UBC                   </td><td>Leigh Anne Swayne           </td><td>magenta</td></tr>\n",
       "\t<tr><td>Not.UBC                   </td><td>Craig E. Brown              </td><td>magenta</td></tr>\n",
       "\t<tr><td>Not.UBC                   </td><td>Adrienne Fairhall           </td><td>magenta</td></tr>\n",
       "\t<tr><td>Not.UBC                   </td><td>Eric Shea-Brown             </td><td>magenta</td></tr>\n",
       "\t<tr><td>Not.UBC                   </td><td>Emily Sylwestrak            </td><td>magenta</td></tr>\n",
       "\t<tr><td>Not.UBC                   </td><td>Andy Y. Shih                </td><td>magenta</td></tr>\n",
       "\t<tr><td>Faculty.of.Medicine       </td><td>Todd S. Woodward            </td><td>red    </td></tr>\n",
       "\t<tr><td>Faculty.of.Medicine       </td><td>Jeffrey LeDue               </td><td>red    </td></tr>\n",
       "\t<tr><td>Faculty.of.Medicine       </td><td>Ilker Hacihaliloglu         </td><td>red    </td></tr>\n",
       "\t<tr><td>Not.UBC                   </td><td>Anthony Randal McIntosh     </td><td>magenta</td></tr>\n",
       "\t<tr><td>Faculty.of.Applied.Science</td><td>Purang Abolmaesumi          </td><td>green  </td></tr>\n",
       "\t<tr><td>Faculty.of.Science        </td><td>Vesna Sossi                 </td><td>blue   </td></tr>\n",
       "</tbody>\n",
       "</table>\n"
      ],
      "text/latex": [
       "A tibble: 46 × 3\n",
       "\\begin{tabular}{lll}\n",
       " group & name & color\\\\\n",
       " <chr> & <chr> & <chr>\\\\\n",
       "\\hline\n",
       "\t Faculty.of.Medicine        & Tim H. Murphy                & red    \\\\\n",
       "\t Faculty.of.Science         & Annie Vogel Ciernia          & blue   \\\\\n",
       "\t Faculty.of.Medicine        & Brian MacVicar               & red    \\\\\n",
       "\t Faculty.of.Medicine        & Fidel Vila-Rodriguez         & red    \\\\\n",
       "\t Faculty.of.Medicine        & Shernaz Bamji                & red    \\\\\n",
       "\t Faculty.of.Medicine        & Lara Boyd                    & red    \\\\\n",
       "\t Faculty.of.Medicine        & Paul Pavlidis                & red    \\\\\n",
       "\t Faculty.of.Medicine        & Martin J. McKeown            & red    \\\\\n",
       "\t Faculty.of.Medicine        & A Jon Stoessl OR jon Stoessl & red    \\\\\n",
       "\t Faculty.of.Applied.Science & Peter Cripton                & green  \\\\\n",
       "\t Faculty.of.Arts            & Jason S. Snyder              & cyan   \\\\\n",
       "\t Faculty.of.Science         & Wolfram Tetzlaff             & blue   \\\\\n",
       "\t Faculty.of.Medicine        & Anthony Phillips             & red    \\\\\n",
       "\t Faculty.of.Arts            & Catharine A. Winstanley      & cyan   \\\\\n",
       "\t Faculty.of.Medicine        & Yu Tian Wang                 & red    \\\\\n",
       "\t Faculty.of.Medicine        & Jeremy K Seamans             & red    \\\\\n",
       "\t Faculty.of.Science         & Snutch                       & blue   \\\\\n",
       "\t Faculty.of.Medicine        & Ian Mackenzie                & red    \\\\\n",
       "\t Faculty.of.Medicine        & Lynn A Raymond               & red    \\\\\n",
       "\t Faculty.of.Medicine        & Kurt Haas                    & red    \\\\\n",
       "\t Faculty.of.Medicine        & Mark S. Cembrowski           & red    \\\\\n",
       "\t Faculty.of.Applied.Science & Fabio MV Rossi               & green  \\\\\n",
       "\t Faculty.of.Science         & A. Jane Roskams              & blue   \\\\\n",
       "\t Faculty.of.Arts            & Rankin Catharine H           & cyan   \\\\\n",
       "\t Faculty.of.Science         & Michael Gordon               & blue   \\\\\n",
       "\t Faculty.of.Science         & Leonid Sigal                 & blue   \\\\\n",
       "\t Faculty.of.Applied.Science & Z. Jane Wang                 & green  \\\\\n",
       "\t Faculty.of.Applied.Science & Peyman Servati               & green  \\\\\n",
       "\t Faculty.of.Arts            & Liisa Galea                  & cyan   \\\\\n",
       "\t Faculty.of.Medicine        & Sophia Frangou               & red    \\\\\n",
       "\t Faculty.of.Medicine        & Silke Appel-Cresswell        & red    \\\\\n",
       "\t Faculty.of.Science         & Helge Rhodin                 & blue   \\\\\n",
       "\t Faculty.of.Applied.Science & Manu S Madhav                & green  \\\\\n",
       "\t Not.UBC                    & Brian D. Fisher              & magenta\\\\\n",
       "\t Not.UBC                    & Leigh Anne Swayne            & magenta\\\\\n",
       "\t Not.UBC                    & Craig E. Brown               & magenta\\\\\n",
       "\t Not.UBC                    & Adrienne Fairhall            & magenta\\\\\n",
       "\t Not.UBC                    & Eric Shea-Brown              & magenta\\\\\n",
       "\t Not.UBC                    & Emily Sylwestrak             & magenta\\\\\n",
       "\t Not.UBC                    & Andy Y. Shih                 & magenta\\\\\n",
       "\t Faculty.of.Medicine        & Todd S. Woodward             & red    \\\\\n",
       "\t Faculty.of.Medicine        & Jeffrey LeDue                & red    \\\\\n",
       "\t Faculty.of.Medicine        & Ilker Hacihaliloglu          & red    \\\\\n",
       "\t Not.UBC                    & Anthony Randal McIntosh      & magenta\\\\\n",
       "\t Faculty.of.Applied.Science & Purang Abolmaesumi           & green  \\\\\n",
       "\t Faculty.of.Science         & Vesna Sossi                  & blue   \\\\\n",
       "\\end{tabular}\n"
      ],
      "text/markdown": [
       "\n",
       "A tibble: 46 × 3\n",
       "\n",
       "| group &lt;chr&gt; | name &lt;chr&gt; | color &lt;chr&gt; |\n",
       "|---|---|---|\n",
       "| Faculty.of.Medicine        | Tim H. Murphy                | red     |\n",
       "| Faculty.of.Science         | Annie Vogel Ciernia          | blue    |\n",
       "| Faculty.of.Medicine        | Brian MacVicar               | red     |\n",
       "| Faculty.of.Medicine        | Fidel Vila-Rodriguez         | red     |\n",
       "| Faculty.of.Medicine        | Shernaz Bamji                | red     |\n",
       "| Faculty.of.Medicine        | Lara Boyd                    | red     |\n",
       "| Faculty.of.Medicine        | Paul Pavlidis                | red     |\n",
       "| Faculty.of.Medicine        | Martin J. McKeown            | red     |\n",
       "| Faculty.of.Medicine        | A Jon Stoessl OR jon Stoessl | red     |\n",
       "| Faculty.of.Applied.Science | Peter Cripton                | green   |\n",
       "| Faculty.of.Arts            | Jason S. Snyder              | cyan    |\n",
       "| Faculty.of.Science         | Wolfram Tetzlaff             | blue    |\n",
       "| Faculty.of.Medicine        | Anthony Phillips             | red     |\n",
       "| Faculty.of.Arts            | Catharine A. Winstanley      | cyan    |\n",
       "| Faculty.of.Medicine        | Yu Tian Wang                 | red     |\n",
       "| Faculty.of.Medicine        | Jeremy K Seamans             | red     |\n",
       "| Faculty.of.Science         | Snutch                       | blue    |\n",
       "| Faculty.of.Medicine        | Ian Mackenzie                | red     |\n",
       "| Faculty.of.Medicine        | Lynn A Raymond               | red     |\n",
       "| Faculty.of.Medicine        | Kurt Haas                    | red     |\n",
       "| Faculty.of.Medicine        | Mark S. Cembrowski           | red     |\n",
       "| Faculty.of.Applied.Science | Fabio MV Rossi               | green   |\n",
       "| Faculty.of.Science         | A. Jane Roskams              | blue    |\n",
       "| Faculty.of.Arts            | Rankin Catharine H           | cyan    |\n",
       "| Faculty.of.Science         | Michael Gordon               | blue    |\n",
       "| Faculty.of.Science         | Leonid Sigal                 | blue    |\n",
       "| Faculty.of.Applied.Science | Z. Jane Wang                 | green   |\n",
       "| Faculty.of.Applied.Science | Peyman Servati               | green   |\n",
       "| Faculty.of.Arts            | Liisa Galea                  | cyan    |\n",
       "| Faculty.of.Medicine        | Sophia Frangou               | red     |\n",
       "| Faculty.of.Medicine        | Silke Appel-Cresswell        | red     |\n",
       "| Faculty.of.Science         | Helge Rhodin                 | blue    |\n",
       "| Faculty.of.Applied.Science | Manu S Madhav                | green   |\n",
       "| Not.UBC                    | Brian D. Fisher              | magenta |\n",
       "| Not.UBC                    | Leigh Anne Swayne            | magenta |\n",
       "| Not.UBC                    | Craig E. Brown               | magenta |\n",
       "| Not.UBC                    | Adrienne Fairhall            | magenta |\n",
       "| Not.UBC                    | Eric Shea-Brown              | magenta |\n",
       "| Not.UBC                    | Emily Sylwestrak             | magenta |\n",
       "| Not.UBC                    | Andy Y. Shih                 | magenta |\n",
       "| Faculty.of.Medicine        | Todd S. Woodward             | red     |\n",
       "| Faculty.of.Medicine        | Jeffrey LeDue                | red     |\n",
       "| Faculty.of.Medicine        | Ilker Hacihaliloglu          | red     |\n",
       "| Not.UBC                    | Anthony Randal McIntosh      | magenta |\n",
       "| Faculty.of.Applied.Science | Purang Abolmaesumi           | green   |\n",
       "| Faculty.of.Science         | Vesna Sossi                  | blue    |\n",
       "\n"
      ],
      "text/plain": [
       "   group                      name                         color  \n",
       "1  Faculty.of.Medicine        Tim H. Murphy                red    \n",
       "2  Faculty.of.Science         Annie Vogel Ciernia          blue   \n",
       "3  Faculty.of.Medicine        Brian MacVicar               red    \n",
       "4  Faculty.of.Medicine        Fidel Vila-Rodriguez         red    \n",
       "5  Faculty.of.Medicine        Shernaz Bamji                red    \n",
       "6  Faculty.of.Medicine        Lara Boyd                    red    \n",
       "7  Faculty.of.Medicine        Paul Pavlidis                red    \n",
       "8  Faculty.of.Medicine        Martin J. McKeown            red    \n",
       "9  Faculty.of.Medicine        A Jon Stoessl OR jon Stoessl red    \n",
       "10 Faculty.of.Applied.Science Peter Cripton                green  \n",
       "11 Faculty.of.Arts            Jason S. Snyder              cyan   \n",
       "12 Faculty.of.Science         Wolfram Tetzlaff             blue   \n",
       "13 Faculty.of.Medicine        Anthony Phillips             red    \n",
       "14 Faculty.of.Arts            Catharine A. Winstanley      cyan   \n",
       "15 Faculty.of.Medicine        Yu Tian Wang                 red    \n",
       "16 Faculty.of.Medicine        Jeremy K Seamans             red    \n",
       "17 Faculty.of.Science         Snutch                       blue   \n",
       "18 Faculty.of.Medicine        Ian Mackenzie                red    \n",
       "19 Faculty.of.Medicine        Lynn A Raymond               red    \n",
       "20 Faculty.of.Medicine        Kurt Haas                    red    \n",
       "21 Faculty.of.Medicine        Mark S. Cembrowski           red    \n",
       "22 Faculty.of.Applied.Science Fabio MV Rossi               green  \n",
       "23 Faculty.of.Science         A. Jane Roskams              blue   \n",
       "24 Faculty.of.Arts            Rankin Catharine H           cyan   \n",
       "25 Faculty.of.Science         Michael Gordon               blue   \n",
       "26 Faculty.of.Science         Leonid Sigal                 blue   \n",
       "27 Faculty.of.Applied.Science Z. Jane Wang                 green  \n",
       "28 Faculty.of.Applied.Science Peyman Servati               green  \n",
       "29 Faculty.of.Arts            Liisa Galea                  cyan   \n",
       "30 Faculty.of.Medicine        Sophia Frangou               red    \n",
       "31 Faculty.of.Medicine        Silke Appel-Cresswell        red    \n",
       "32 Faculty.of.Science         Helge Rhodin                 blue   \n",
       "33 Faculty.of.Applied.Science Manu S Madhav                green  \n",
       "34 Not.UBC                    Brian D. Fisher              magenta\n",
       "35 Not.UBC                    Leigh Anne Swayne            magenta\n",
       "36 Not.UBC                    Craig E. Brown               magenta\n",
       "37 Not.UBC                    Adrienne Fairhall            magenta\n",
       "38 Not.UBC                    Eric Shea-Brown              magenta\n",
       "39 Not.UBC                    Emily Sylwestrak             magenta\n",
       "40 Not.UBC                    Andy Y. Shih                 magenta\n",
       "41 Faculty.of.Medicine        Todd S. Woodward             red    \n",
       "42 Faculty.of.Medicine        Jeffrey LeDue                red    \n",
       "43 Faculty.of.Medicine        Ilker Hacihaliloglu          red    \n",
       "44 Not.UBC                    Anthony Randal McIntosh      magenta\n",
       "45 Faculty.of.Applied.Science Purang Abolmaesumi           green  \n",
       "46 Faculty.of.Science         Vesna Sossi                  blue   "
      ]
     },
     "metadata": {},
     "output_type": "display_data"
    }
   ],
   "source": [
    "df_group"
   ]
  },
  {
   "cell_type": "markdown",
   "id": "59d42e26-6ca9-4e6e-969d-835edfc3f33f",
   "metadata": {},
   "source": [
    "8. Create the chord diagram. Modify the name of the output PDF file. You can make additional optional modifications as well (read the comments below)."
   ]
  },
  {
   "cell_type": "code",
   "execution_count": 13,
   "id": "131f81a0-8fd0-46d9-a856-245d27ae912b",
   "metadata": {
    "vscode": {
     "languageId": "r"
    }
   },
   "outputs": [
    {
     "data": {
      "text/html": [
       "<strong>pdf:</strong> 2"
      ],
      "text/latex": [
       "\\textbf{pdf:} 2"
      ],
      "text/markdown": [
       "**pdf:** 2"
      ],
      "text/plain": [
       "pdf \n",
       "  2 "
      ]
     },
     "metadata": {},
     "output_type": "display_data"
    }
   ],
   "source": [
    "\n",
    "# !!! Modify this\n",
    "pdf(\"grouped_chord_diagram.pdf\") \n",
    "\n",
    "# set up the parameters\n",
    "circos.clear()\n",
    "circos.par(start.degree = 90,gap.degree = 1, \n",
    "           track.margin = c(-0.1, 0.1), \n",
    "           points.overflow.warning = FALSE, canvas.xlim = c(-1.3,1.3),\n",
    "           canvas.ylim = c(-1.3,1.3))\n",
    "par(mar = c(0,0,2,0),xpd = TRUE, cex.main = 1.5)\n",
    "\n",
    "# create the chord diagram\n",
    "chordDiagram(links, group = group_ind,\n",
    "              grid.col = color_ind,\n",
    "             transparency = 0.25,\n",
    "             diffHeight  = -0.04,\n",
    "             annotationTrack = \"grid\", \n",
    "             annotationTrackHeight = c(0.05, 0.1),\n",
    "             link.sort = TRUE, \n",
    "             link.largest.ontop = FALSE,\n",
    "              self.link = 1, \n",
    "\n",
    ")\n",
    "                    \n",
    "\n",
    "# Add the text and the axis surrounding the diagram.\n",
    "circos.trackPlotRegion(\n",
    "  track.index = 1, \n",
    "  bg.border = NA, \n",
    "  panel.fun = function(x, y) {\n",
    "    \n",
    "    xlim = get.cell.meta.data(\"xlim\")\n",
    "    sector.index = get.cell.meta.data(\"sector.index\")\n",
    "    \n",
    "    # Add names to the sector. \n",
    "    # You can modify the font size of the names by changing cex and the distance between the names\n",
    "    #    and the circle by changing y. \n",
    "    circos.text(\n",
    "      x = mean(xlim), \n",
    "      y = 6, \n",
    "      labels = sector.index, \n",
    "      facing = \"clockwise\", \n",
    "      niceFacing = TRUE,\n",
    "      cex = 0.7,\n",
    "    )\n",
    "    \n",
    "     #Add graduation on axis\n",
    "    circos.axis(\n",
    "      h = \"top\", \n",
    "      labels.cex = 0.001,\n",
    "      minor.ticks = 2, \n",
    "      major.tick.length = 0.1, \n",
    "      labels.niceFacing = FALSE)\n",
    "      \n",
    "  }\n",
    ")\n",
    "# Add a legend\n",
    "# You can modify the position (e.g. change \"bottomright\" to \"topleft\"), and the font (cex)\n",
    "legend(\"bottomright\", legend=group_names,\n",
    "       col=c_pallete, lty=1, cex=0.7)\n",
    "\n",
    "\n",
    "# Add the title (user can modify the title in step 3) \n",
    "title(title,outer=FALSE)\n",
    "                    \n",
    "                    \n",
    "dev.off()\n",
    "                    "
   ]
  }
 ],
 "metadata": {
  "kernelspec": {
   "display_name": "R",
   "language": "R",
   "name": "ir"
  },
  "language_info": {
   "codemirror_mode": "r",
   "file_extension": ".r",
   "mimetype": "text/x-r-source",
   "name": "R",
   "pygments_lexer": "r",
   "version": "4.2.2"
  }
 },
 "nbformat": 4,
 "nbformat_minor": 5
}
