{
 "cells": [
  {
   "cell_type": "markdown",
   "id": "c6f442bd-1a42-4b96-aaff-b7d28fffbea8",
   "metadata": {},
   "source": [
    "![DBC](Images/DBC.png)\n",
    "\n",
    "# Scholar Metrics Scraper: GroupedCollabs notebook\n",
    "\n",
    "**Introduction**\n",
    "\n",
    "This R notebook creates a **grouped** chord diagram to visualize publication collaborations between coauthors. It creates links between authors and their coauthors from the output CSV file created by the ScholarScraper.ipynb notebook. It also takes another CSV file as input to specify each author's group. This notebook should be run after the ScholarScraper notebook. If you do not want a grouped diagram, use ScholarCollabs.ipynb. \n",
    "\n",
    "**Installation and Setup**\n",
    "1. At this point we will assume you have this project loaded in Jupyter and have successfully run the ScholarScraper notebook, which has created an output CSV file with author data. If this is not the case, go to the ScholarScraper.ipynb file and follow the instructions to setup and run. \n",
    "\n",
    "2. Ensure that the CSV file created by ScholarScraper is in the same directory as this notebook. Make sure it has a column labeled 'Name' and a column labeled 'Coauthors'. \n",
    "\n",
    "3. Create a CSV file for the groupings. This should contain the author names in the first column, the group names as column names, and the author names under their respective groups (see the example below). The names in this file should match the names in the CSV file created by ScholarScraper. Upload this CSV to the project directory (the same directory as this notebook file). \n",
    "![Groupings](Images/ExampleGroupCSV.png)\n",
    "\n",
    "\n"
   ]
  },
  {
   "cell_type": "markdown",
   "id": "50c2ae0c-8e38-4cea-89e1-f55b82fddfdc",
   "metadata": {},
   "source": [
    "**Steps**\n",
    "\n",
    "\n",
    "1. Install and load libraries"
   ]
  },
  {
   "cell_type": "code",
   "execution_count": null,
   "id": "a9e80f87",
   "metadata": {
    "vscode": {
     "languageId": "r"
    }
   },
   "outputs": [],
   "source": [
    "### Uncomment and install packages if necessary ###\n",
    "\n",
    "# devtools::install_github(\"thomasp85/patchwork\")\n",
    "# devtools::install_github(\"jokergoo/circlize\")\n",
    "# install.packages(\"RColorBrewer\")"
   ]
  },
  {
   "cell_type": "code",
   "execution_count": 2,
   "id": "d8279ea8",
   "metadata": {
    "vscode": {
     "languageId": "r"
    }
   },
   "outputs": [
    {
     "data": {
      "text/plain": [
       "               _                           \n",
       "platform       aarch64-apple-darwin20.0.0  \n",
       "arch           aarch64                     \n",
       "os             darwin20.0.0                \n",
       "system         aarch64, darwin20.0.0       \n",
       "status                                     \n",
       "major          4                           \n",
       "minor          2.2                         \n",
       "year           2022                        \n",
       "month          10                          \n",
       "day            31                          \n",
       "svn rev        83211                       \n",
       "language       R                           \n",
       "version.string R version 4.2.2 (2022-10-31)\n",
       "nickname       Innocent and Trusting       "
      ]
     },
     "metadata": {},
     "output_type": "display_data"
    }
   ],
   "source": [
    "R.version"
   ]
  },
  {
   "cell_type": "code",
   "execution_count": 78,
   "id": "0b8f7647-2f14-4e3e-99b0-df093190f2ee",
   "metadata": {
    "vscode": {
     "languageId": "r"
    }
   },
   "outputs": [],
   "source": [
    "library(tidyverse)\n",
    "library(viridis)\n",
    "library(patchwork)\n",
    "library(circlize)\n",
    "library(RColorBrewer)\n",
    "\n"
   ]
  },
  {
   "cell_type": "markdown",
   "id": "f2842a5d-6225-4fa3-9070-b9d68a569821",
   "metadata": {},
   "source": [
    "2. Define the name of the data file (CSV created by Scholar Scraper), investigator names CSV file, and group CSV file"
   ]
  },
  {
   "cell_type": "code",
   "execution_count": 90,
   "id": "514ef364-911c-4691-be89-86ea515fe665",
   "metadata": {
    "vscode": {
     "languageId": "r"
    }
   },
   "outputs": [],
   "source": [
    "# !!! Modify this to match the name of the CSV file that was created as output form the ScholarScraper notebook\n",
    "ss_output_file = \"Supplemental Data/SciVal Documents/sv_ss_output_data.csv\"\n",
    "\n",
    "# !!! Modify this to match the name of your groupings CSV file. See instructions above. \n",
    "group_file = \"dbc_faculty_groups.csv\""
   ]
  },
  {
   "cell_type": "markdown",
   "id": "c370a661-a832-4264-9eb9-3d54172fab04",
   "metadata": {},
   "source": [
    "3. Define the title, colors, and whether you want to create weighted or non-weighted diagram. \n",
    "\n",
    "    View color options [here](http://www.stat.columbia.edu/~tzheng/files/Rcolor.pdf)."
   ]
  },
  {
   "cell_type": "code",
   "execution_count": 91,
   "id": "4ce25601-644b-4bcf-a0f1-fd2cc7379719",
   "metadata": {
    "vscode": {
     "languageId": "r"
    }
   },
   "outputs": [],
   "source": [
    "# !!! Modify the diagram title\n",
    "title = \"SciVal Dynamic Brain Circuits Grouped by Faculty\"\n",
    "\n",
    "# !!! Modify the colour palette. Make sure there are the same number of colours as groups. \n",
    "c_pallete = c(\"red\",\"green\",\"blue\",\"cyan\",\"magenta\")\n",
    "\n",
    "# !!! Modify the group names. These groups will be paired with the colours in the c_palette, in the same order. \n",
    "group_names = c(\"Faculty of Medicine\", \n",
    "                               \"Faculty of Applied Science\",\n",
    "                               \"Faculty of Science\", \n",
    "                               \"Faculty of Arts\", \n",
    "                               \"Cascadia\")\n",
    "\n",
    "# !!! Modify this - Set to TRUE if you want a weighted diagram or FALSE if you want a non-weighted diagram.\n",
    "weighted = TRUE "
   ]
  },
  {
   "cell_type": "markdown",
   "id": "a61e4022-e3c4-48c8-a64d-834a9669bb08",
   "metadata": {},
   "source": [
    "4. Load in collaboration data"
   ]
  },
  {
   "cell_type": "code",
   "execution_count": 92,
   "id": "fb50c617-0297-47bf-9f26-c22405c2d957",
   "metadata": {
    "tags": [],
    "vscode": {
     "languageId": "r"
    }
   },
   "outputs": [],
   "source": [
    "df_collab = read.csv(ss_output_file)\n"
   ]
  },
  {
   "cell_type": "markdown",
   "id": "fc9ce449-e53a-42b9-8a09-16470d7e5a27",
   "metadata": {},
   "source": [
    "5. Tidy the df_collab dataframe"
   ]
  },
  {
   "cell_type": "code",
   "execution_count": 93,
   "id": "81d0642c-bcda-4e48-bbe1-e844cc26871b",
   "metadata": {
    "vscode": {
     "languageId": "r"
    }
   },
   "outputs": [],
   "source": [
    "# creating a subset of our survey data that extracts the useful columns. \n",
    "df_collab = subset(df_collab, select = c(Name, Coauthors))\n",
    "\n",
    "# get rid of rows containing NAs\n",
    "df_collab=df_collab[rowSums(is.na(df_collab)) != ncol(df_collab), ]"
   ]
  },
  {
   "cell_type": "markdown",
   "id": "ae22663d-6646-4b93-ba0d-07fa0f99105b",
   "metadata": {},
   "source": [
    "6. Set up the links"
   ]
  },
  {
   "cell_type": "code",
   "execution_count": 94,
   "id": "e4015ec1-b38b-4bb9-a176-632a1a9fb6d2",
   "metadata": {
    "vscode": {
     "languageId": "r"
    }
   },
   "outputs": [],
   "source": [
    "##### create an edge list using for loop. ####\n",
    "origin = c()\n",
    "destination = c()\n",
    "count = c()\n",
    "\n",
    "for (i in 1:nrow(df_collab)) {\n",
    "  x = df_collab$Name[i]\n",
    "  for (n in 1:nrow(df_collab)) {\n",
    "    if(is.na(df_collab$Coauthors[n]) == FALSE) {\n",
    "      if(str_detect(df_collab$Coauthors[n], x) == TRUE) {\n",
    "        origin = append(origin, df_collab$Name[n])\n",
    "        destination = append(destination, x)\n",
    "#       extracts digits that come after author name in df_collab$Coauthors[n]\n",
    "        count = append(count, strtoi(\n",
    "            str_extract(df_collab$Coauthors[n],paste(\"(?<=\", df_collab$Name[i], \"\\': )\\\\d+\", sep=\"\"))))\n",
    "      }\n",
    "    }\n",
    "  }\n",
    "}\n",
    "\n",
    "edge_l = data.frame(origin, destination, count)\n",
    "# cleaning up the edge list by removing duplicates\n",
    "edge_l = unique(edge_l)\n",
    "edge_l$temp = apply(edge_l, 1, function(x) paste(sort(x), collapse=\"\"))\n",
    "edge_l = edge_l[!duplicated(edge_l$temp), 1:3]\n",
    "                    \n",
    "# create an adjacency list. \n",
    "adjacencyData = data.frame(with(edge_l, table(origin, destination)))\n",
    "                    \n",
    "# set the links to the edge list for a weighted diagram or adjacency list for non-weighted\n",
    "if (weighted == TRUE){\n",
    "    links = edge_l\n",
    "} else {\n",
    "    links = adjacencyData\n",
    "}"
   ]
  },
  {
   "cell_type": "markdown",
   "id": "87ab4f4b-b037-4f66-a5d6-2e15cbfcde8b",
   "metadata": {},
   "source": [
    "7. Set up the groupings"
   ]
  },
  {
   "cell_type": "code",
   "execution_count": 95,
   "id": "d7daa448-bf7e-4f91-ac00-59e4b7e77342",
   "metadata": {
    "vscode": {
     "languageId": "r"
    }
   },
   "outputs": [],
   "source": [
    "# loading in the group names\n",
    "df_group = read.csv(group_file)\n",
    "\n",
    "\n",
    "# Setting up group names\n",
    "Primary_c = colnames(df_group)[-1]\n",
    "\n",
    "# Removing unnecessary first column\n",
    "df_group <- df_group[,-1]\n",
    "\n",
    "# Creating a group column by pivoting \n",
    "df_group = df_group %>%\n",
    "  pivot_longer(Primary_c,\n",
    "               names_to = \"group\",\n",
    "               values_to = \"name\")\n",
    "\n",
    "# Removing NAs\n",
    "df_group[df_group==\"\"]<-NA\n",
    "df_group = na.omit(df_group)\n",
    "\n",
    "# Assigning a colour to each group. \n",
    "color =  c()\n",
    "                    \n",
    "for (i in 1:nrow(df_group)) {\n",
    "  for (j in 1:length(Primary_c)) {\n",
    "    if(df_group$group[i] == Primary_c[j]) {\n",
    "      color = append(color,c_pallete[j])\n",
    "    }\n",
    "  }\n",
    "}\n",
    "\n",
    "# adding the color column to the dataframe.\n",
    "df_group$color = color\n",
    "\n",
    "# creating the groupings\n",
    "group_ind = structure(df_group$group, names = df_group$name)\n",
    "\n",
    "# creating colors for the groupings\n",
    "color_ind = structure(df_group$color, names = df_group$name)"
   ]
  },
  {
   "cell_type": "markdown",
   "id": "59d42e26-6ca9-4e6e-969d-835edfc3f33f",
   "metadata": {},
   "source": [
    "8. Create the chord diagram. Modify the name of the output PDF file. You can make additional optional modifications as well (read the comments below)."
   ]
  },
  {
   "cell_type": "code",
   "execution_count": 96,
   "id": "131f81a0-8fd0-46d9-a856-245d27ae912b",
   "metadata": {
    "vscode": {
     "languageId": "r"
    }
   },
   "outputs": [
    {
     "data": {
      "text/html": [
       "<strong>pdf:</strong> 2"
      ],
      "text/latex": [
       "\\textbf{pdf:} 2"
      ],
      "text/markdown": [
       "**pdf:** 2"
      ],
      "text/plain": [
       "pdf \n",
       "  2 "
      ]
     },
     "metadata": {},
     "output_type": "display_data"
    }
   ],
   "source": [
    "\n",
    "# !!! Modify this\n",
    "pdf(\"sv_grouped_chord_diagram.pdf\") \n",
    "\n",
    "# set up the parameters\n",
    "circos.clear()\n",
    "circos.par(start.degree = 90,gap.degree = 1, \n",
    "           track.margin = c(-0.1, 0.1), \n",
    "           points.overflow.warning = FALSE, canvas.xlim = c(-1.3,1.3),\n",
    "           canvas.ylim = c(-1.3,1.3))\n",
    "par(mar = c(0,0,2,0),xpd = TRUE, cex.main = 1.5)\n",
    "\n",
    "# create the chord diagram\n",
    "chordDiagram(links, group = group_ind,\n",
    "             grid.col = color_ind,\n",
    "             transparency = 0.25,\n",
    "             diffHeight  = -0.04,\n",
    "             annotationTrack = \"grid\", \n",
    "             annotationTrackHeight = c(0.05, 0.1),\n",
    "             link.sort = TRUE, \n",
    "             link.largest.ontop = FALSE,\n",
    "             self.link = 1, \n",
    "\n",
    ")\n",
    "                    \n",
    "\n",
    "# Add the text and the axis surrounding the diagram.\n",
    "circos.trackPlotRegion(\n",
    "  track.index = 1, \n",
    "  bg.border = NA, \n",
    "  panel.fun = function(x, y) {\n",
    "    \n",
    "    xlim = get.cell.meta.data(\"xlim\")\n",
    "    sector.index = get.cell.meta.data(\"sector.index\")\n",
    "    \n",
    "    # Add names to the sector. \n",
    "    # You can modify the font size of the names by changing cex and the distance between the names\n",
    "    #    and the circle by changing y. \n",
    "    circos.text(\n",
    "      x = mean(xlim), \n",
    "      y = 6, \n",
    "      labels = sector.index, \n",
    "      facing = \"clockwise\", \n",
    "      niceFacing = TRUE,\n",
    "      cex = 0.7,\n",
    "    )\n",
    "    \n",
    "     #Add graduation on axis\n",
    "    circos.axis(\n",
    "      h = \"top\", \n",
    "      labels.cex = 0.001,\n",
    "      minor.ticks = 2, \n",
    "      major.tick.length = 0.1, \n",
    "      labels.niceFacing = FALSE)\n",
    "      \n",
    "  }\n",
    ")\n",
    "# Add a legend\n",
    "# You can modify the position (e.g. change \"bottomright\" to \"topleft\"), and the font size (cex)\n",
    "legend(\"bottomright\", legend=group_names,\n",
    "       col=c_pallete, lty=1, cex=0.7)\n",
    "\n",
    "\n",
    "# Add the title (user can modify the title in step 3) \n",
    "title(title,outer=FALSE, cex.main=1)\n",
    "                    \n",
    "                    \n",
    "dev.off()\n",
    "                    "
   ]
  }
 ],
 "metadata": {
  "kernelspec": {
   "display_name": "R",
   "language": "R",
   "name": "ir"
  },
  "language_info": {
   "codemirror_mode": "r",
   "file_extension": ".r",
   "mimetype": "text/x-r-source",
   "name": "R",
   "pygments_lexer": "r",
   "version": "4.2.2"
  }
 },
 "nbformat": 4,
 "nbformat_minor": 5
}
