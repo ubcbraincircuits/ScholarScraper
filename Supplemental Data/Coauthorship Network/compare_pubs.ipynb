{
 "cells": [
  {
   "cell_type": "code",
   "execution_count": 2,
   "metadata": {},
   "outputs": [],
   "source": [
    "import os, sys, re, ast\n",
    "import pandas as pd\n",
    "import numpy as np\n",
    "import bct"
   ]
  },
  {
   "cell_type": "code",
   "execution_count": 4,
   "metadata": {},
   "outputs": [],
   "source": [
    "sv_df = pd.read_csv(\"../SciVal Documents/Outputs/sv_shared_pubs.csv\",sep=\"|\")\n",
    "gs_df = pd.read_csv(\"../../Example Outputs/shared_pubs.csv\",sep=\"|\")"
   ]
  },
  {
   "cell_type": "code",
   "execution_count": 5,
   "metadata": {},
   "outputs": [
    {
     "name": "stdout",
     "output_type": "stream",
     "text": [
      "                                               Title  \\\n",
      "0  Meso-Py: Dual Brain Cortical Calcium Imaging i...   \n",
      "1  Chronic multiscale resolution of mouse brain n...   \n",
      "2  Water-Reaching Platform for Longitudinal Asses...   \n",
      "3  Multiscale imaging informs translational mouse...   \n",
      "4  Towards a Visualizable, De-identified Syntheti...   \n",
      "\n",
      "                              Authors  \n",
      "0  ['Tim H. Murphy', 'Jeffrey LeDue']  \n",
      "1   ['Tim H. Murphy', 'Lynn Raymond']  \n",
      "2   ['Tim H. Murphy', 'Lynn Raymond']  \n",
      "3  ['Tim H. Murphy', 'Jeffrey LeDue']  \n",
      "4   ['Tim H. Murphy', 'Helge Rhodin']  \n"
     ]
    }
   ],
   "source": [
    "print(sv_df.head())"
   ]
  },
  {
   "cell_type": "code",
   "execution_count": 7,
   "metadata": {},
   "outputs": [],
   "source": [
    "def standardize_title(title:str) -> str:\n",
    "    '''return clean cleaned, lowercase string'''\n",
    "\n",
    "    title = \"\".join(\n",
    "        re.sub(r'[^\\w ]', '', #replace anything that is not a letter with \"\"\n",
    "               title.replace(\"<sup>\",\"\") #remove tags (mostly in scival data)\n",
    "               .replace(\"</sup>\",\"\")\n",
    "               .replace(\"<inf>\",\"\")\n",
    "               .replace(\"</inf>\",\"\")\n",
    "               .lower(), #lower all letters\n",
    "               ) \n",
    "            .split(\" \"))\n",
    "    return title"
   ]
  },
  {
   "cell_type": "code",
   "execution_count": 8,
   "metadata": {},
   "outputs": [],
   "source": [
    "#clean titles\n",
    "sv_df[\"Standard Titles\"] = pd.DataFrame([standardize_title(title) for title in sv_df[\"Title\"].tolist()])\n",
    "gs_df[\"Standard Titles\"] = pd.DataFrame([standardize_title(title) for title in gs_df[\"Title\"].tolist()])"
   ]
  },
  {
   "cell_type": "code",
   "execution_count": 9,
   "metadata": {},
   "outputs": [
    {
     "name": "stdout",
     "output_type": "stream",
     "text": [
      "                                               Title  \\\n",
      "0  Meso-Py: Dual Brain Cortical Calcium Imaging i...   \n",
      "1  Chronic multiscale resolution of mouse brain n...   \n",
      "2  Water-Reaching Platform for Longitudinal Asses...   \n",
      "3  Multiscale imaging informs translational mouse...   \n",
      "4  Towards a Visualizable, De-identified Syntheti...   \n",
      "\n",
      "                              Authors  \\\n",
      "0  ['Tim H. Murphy', 'Jeffrey LeDue']   \n",
      "1   ['Tim H. Murphy', 'Lynn Raymond']   \n",
      "2   ['Tim H. Murphy', 'Lynn Raymond']   \n",
      "3  ['Tim H. Murphy', 'Jeffrey LeDue']   \n",
      "4   ['Tim H. Murphy', 'Helge Rhodin']   \n",
      "\n",
      "                                     Standard Titles  \n",
      "0  mesopydualbraincorticalcalciumimaginginmicedur...  \n",
      "1  chronicmultiscaleresolutionofmousebrainnetwork...  \n",
      "2  waterreachingplatformforlongitudinalassessment...  \n",
      "3  multiscaleimaginginformstranslationalmousemode...  \n",
      "4  towardsavisualizabledeidentifiedsyntheticbioma...  \n"
     ]
    }
   ],
   "source": [
    "print(sv_df.head())"
   ]
  },
  {
   "cell_type": "code",
   "execution_count": 10,
   "metadata": {},
   "outputs": [
    {
     "name": "stderr",
     "output_type": "stream",
     "text": [
      "/var/folders/47/6bm96nxd0ks5x370bsvkpghh0000gn/T/ipykernel_35878/3357728429.py:9: UserWarning: DataFrame columns are not unique, some columns will be omitted.\n",
      "  gs_dict = gs_df.set_index('Standard Titles').T.to_dict('list')\n"
     ]
    }
   ],
   "source": [
    "#turn into a dictionary of keys with coauthors as values\n",
    "\n",
    "# s = [ast.literal_eval(coauthors) for coauthors in sv_df[\"Authors\"].tolist()]\n",
    "# print(s)\n",
    "\n",
    "# s = [ast.literal_eval(coauthors) for coauthors in sv_df[\"Authors\"].tolist()]\n",
    "\n",
    "sv_dict = sv_df.set_index('Standard Titles').T.to_dict('list')\n",
    "gs_dict = gs_df.set_index('Standard Titles').T.to_dict('list')"
   ]
  },
  {
   "cell_type": "code",
   "execution_count": 11,
   "metadata": {},
   "outputs": [
    {
     "name": "stdout",
     "output_type": "stream",
     "text": [
      "total sv publications: 374\n",
      "total gs publications: 484\n",
      "\n",
      "sv only publications: 67\n",
      "gs only publications: 177\n",
      "shared publications: 307\n"
     ]
    }
   ],
   "source": [
    "sv_only = list(set(sv_dict.keys()) - set(gs_dict.keys()))\n",
    "gs_only = list(set(gs_dict.keys()) - set(sv_dict.keys()))\n",
    "shared_titles = list(set(sv_dict.keys()).intersection(gs_dict.keys()))\n",
    "print(\"total sv publications:\", len(sv_dict.keys()))\n",
    "print(\"total gs publications:\", len(gs_dict.keys()))\n",
    "print()\n",
    "print(\"sv only publications:\",len(sv_only))\n",
    "print(\"gs only publications:\",len(gs_only))\n",
    "print(\"shared publications:\",len(shared_titles))"
   ]
  },
  {
   "cell_type": "code",
   "execution_count": 13,
   "metadata": {},
   "outputs": [],
   "source": [
    "fill_space = lambda x: [\"\"]*(len(shared_titles)-len(x))\n",
    "out_df = pd.DataFrame(\n",
    "    {\n",
    "        \"GS ONLY publications\":gs_only \n",
    "                                + fill_space(gs_only),\n",
    "        \"GS ONLY title\": [gs_dict[title][0] for title in gs_only] \n",
    "                                + fill_space(gs_only),\n",
    "        \"GS ONLY coauthors\": [gs_dict[title][1] for title in gs_only] \n",
    "                                + fill_space(gs_only),\n",
    "        \"SV ONLY publications\": sv_only \n",
    "                                + fill_space(sv_only),\n",
    "        \"SV ONLY title\": [sv_dict[title][0] for title in sv_only] \n",
    "                                + fill_space(sv_only),\n",
    "        \"SV ONLY coauthors\": [sv_dict[title][1] for title in sv_only] \n",
    "                                + fill_space(sv_only),\n",
    "        \"shared publications\": shared_titles,\n",
    "        \"shared gs title\": [gs_dict[title][0] for title in shared_titles],\n",
    "        \"shared sv title\": [sv_dict[title][0] for title in shared_titles],\n",
    "        \"shared gs coauthors\": [gs_dict[title][1] for title in shared_titles],\n",
    "        \"shared sv coauthors\": [sv_dict[title][1] for title in shared_titles],\n",
    "    })"
   ]
  },
  {
   "cell_type": "code",
   "execution_count": 14,
   "metadata": {},
   "outputs": [],
   "source": [
    "out_df.to_csv(\"SVGS_comparison.csv\",index=False)"
   ]
  }
 ],
 "metadata": {
  "kernelspec": {
   "display_name": "sms",
   "language": "python",
   "name": "python3"
  },
  "language_info": {
   "codemirror_mode": {
    "name": "ipython",
    "version": 3
   },
   "file_extension": ".py",
   "mimetype": "text/x-python",
   "name": "python",
   "nbconvert_exporter": "python",
   "pygments_lexer": "ipython3",
   "version": "3.10.0"
  }
 },
 "nbformat": 4,
 "nbformat_minor": 2
}
