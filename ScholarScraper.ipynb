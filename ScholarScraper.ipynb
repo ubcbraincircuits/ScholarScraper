{
 "cells": [
  {
   "cell_type": "markdown",
   "id": "7fb8d362-d38b-41b1-9894-7755e19975bd",
   "metadata": {
    "tags": []
   },
   "source": [
    "![DBC](Images/DBC.png)\n",
    "\n",
    "# Scholar Metrics Scraper: ScholarScraper notebook\n",
    "\n",
    "**Introduction**\n",
    "\n",
    "This notebook automates the process of retrieving bibliometric data from Google Scholar for a list of authors. It utilizes [scholarly](https://pypi.org/project/scholarly/), a Python module that allows users to retrieve bibliometrics from [Google Scholar](https://scholar.google.ca/). It also creates a citations/year bar chart and a collaborations heatmap. This notebook should be run before the ScholarCollabs and GroupedCollabs notebooks.\n",
    "\n",
    "This project currently works with scholarly 1.4.5\n",
    "\n",
    "**Installation and Setup**\n",
    "\n",
    "1. Set-up Jupyter. If your institution has access, you can use [Syzygy](https://syzygy.ca/) to run in the Cloud, or install on your computer following [these instructions](https://jupyter.org/install).\n",
    "2. Clone the project.\n",
    "    - Open Terminal (in Syzygy, click the \"+\" button to open a new launcher and click \"Terminal\"\n",
    "    - Type  \"git clone https://github.com/ubcbraincircuits/scholar_metrics_scraper\" and press enter\n",
    "    - The project should now be cloned in your directory. \n",
    "    - Alternatively, you can download the project as a ZIP file from https://github.com/ubcbraincircuits/scholar_metrics_scraper(click Code, then Download ZIP)\n",
    "3. [Install scholarly](https://pypi.org/project/scholarly/)\n",
    "    - In the terminal (from above) type \"pip install scholarly\" or \"pip install --user scholarly\" and press enter\n",
    "4. Obtain a CSV file with the list of author names in a single column with no column header. Ideally, all author names should match their names in Google Scholar. Upload this file to Syzygy or move it to the project folder on your computer. This file should be in the same directory as this notebook file (ScholarScraper.ipynb). \n",
    "5. Modify the names of the input/output files below (in step 2). The input file name must match the CSV file name. \n",
    "6. Modify the \"affiliations\" variable as a list of institution names which the researchers are affiliated with. Include both abbreviated and long form.  \n",
    "7. Run all cells (click shift+enter to run a cell or the play button above). \n",
    "8. Open the ouput CSV file in the same directory as this notebook file. Check the last column of this file for warnings. If needed, modify the author names in the input CSV file if the wrong author profile was scraped, or no profile was found, and re-run.\n"
   ]
  },
  {
   "cell_type": "markdown",
   "id": "2b2d8c63-31ba-4442-8490-32fe1358779d",
   "metadata": {},
   "source": [
    "**Steps**\n",
    "\n",
    "1. Install and load libraries and packages.\n"
   ]
  },
  {
   "cell_type": "code",
   "execution_count": null,
   "id": "332df0dc-a0ad-4946-a11b-7ea1813766ec",
   "metadata": {},
   "outputs": [],
   "source": [
    "\n",
    "#If you receive an error running this cell for the first time, try running it agian. \n",
    "\n",
    "from scholarly import scholarly\n",
    "import csv\n",
    "import warnings\n",
    "import pandas as pd\n",
    "import numpy as np\n",
    "import matplotlib\n",
    "from matplotlib import pyplot as plt\n",
    "from matplotlib import cm as CM\n"
   ]
  },
  {
   "cell_type": "markdown",
   "id": "8d8296e4-0796-48c1-b4c7-a72cefac5dab",
   "metadata": {},
   "source": [
    "2. Modify the names of the input and output files. The name of the input file should match the name of the author list CSV file. If you followed the setup instructions, the CSV file should now be in the same directory as this notebook file. The output file does not have to exist yet (it will be created). "
   ]
  },
  {
   "cell_type": "code",
   "execution_count": null,
   "id": "1637768d-85ae-4f31-9af7-7f9c890eb869",
   "metadata": {},
   "outputs": [],
   "source": [
    "# !!! Modify this to match the name of your author list CSV file. \n",
    "author_list_csv = 'authorlist.csv'\n",
    "output_data_csv = 'ss_output_data.csv'"
   ]
  },
  {
   "cell_type": "markdown",
   "id": "356ce131-3f1c-48a8-98fb-0130f871aa29",
   "metadata": {},
   "source": [
    "3. Load in the author names from the CSV file. "
   ]
  },
  {
   "cell_type": "code",
   "execution_count": null,
   "id": "27cc98e7-2e5f-47ed-a354-0cf2e471c5b1",
   "metadata": {},
   "outputs": [],
   "source": [
    "author_names= []\n",
    "with open(author_list_csv, encoding =\"utf-8-sig\") as csv_file:\n",
    "    csv_reader = csv.reader(csv_file, delimiter =',')\n",
    "    for row in csv_reader:\n",
    "        if (len(row) == 1):\n",
    "            author_names.append(row[0])"
   ]
  },
  {
   "cell_type": "markdown",
   "id": "35b1fe16-1611-481e-9a1f-002db9385962",
   "metadata": {},
   "source": [
    "4. Modify the affiliations list with institutions which the researchers are affiliated with. "
   ]
  },
  {
   "cell_type": "code",
   "execution_count": null,
   "id": "bb73535e-9cd7-4977-ae10-939aa00d63a0",
   "metadata": {},
   "outputs": [],
   "source": [
    "affiliations = [\n",
    "    'University of British Columbia', \n",
    "    'UBC', \n",
    "    'Djavad Mowafaghian', \n",
    "    'Simon Fraser University', \n",
    "    'University of Victoria', \n",
    "    'University of Washington'\n",
    "    ]"
   ]
  },
  {
   "cell_type": "markdown",
   "id": "998bb632-871c-420f-9388-0b2366493e32",
   "metadata": {},
   "source": [
    "5. Scrape data for each author. This will take several minutes. "
   ]
  },
  {
   "cell_type": "code",
   "execution_count": null,
   "id": "4ed9c40e-4e68-4f38-9130-b1d6059bd351",
   "metadata": {},
   "outputs": [],
   "source": [
    "# This will contain all the data for each author which will be exported as a table. It will be a list of dictionaries. \n",
    "rows = []\n",
    "# This will contain a list of dictionaries for each author. The dictionaries will be made up of years as keys and citation numbers as vals\n",
    "cites_per_year = []\n",
    "# This dictionary will contain publication titles as keys and author names as values\n",
    "pub_authors = {}\n",
    "\n",
    "\n",
    "for athr in author_names:\n",
    "    pubs = []\n",
    "    try :\n",
    "        if ' ' in athr:\n",
    "            search_query = scholarly.search_author(athr)\n",
    "            author = next(search_query) \n",
    "        else:\n",
    "            author = scholarly.search_author_id(athr)\n",
    "    except (RuntimeError,TypeError,StopIteration):\n",
    "        row = {'Name': athr, 'Warning': 'no information found'}\n",
    "    else:\n",
    "        data_dict = scholarly.fill(author, sections=['basics', 'indices', 'publications', 'counts'])\n",
    "        \n",
    "        # Get publications titles \n",
    "        for pub in data_dict['publications']:\n",
    "            pubs.append(pub['bib']['title'])\n",
    "            # Add to dictionary with title as key and author as value\n",
    "            # Do not add duplicates of authors\n",
    "            if (pub['bib']['title'] not in pub_authors.keys()) or (data_dict['name'] not in pub_authors[pub['bib']['title']]): \n",
    "                pub_authors.setdefault(pub['bib']['title'],[]).append(data_dict['name'])\n",
    "        \n",
    "        # Get citations per year and put in dictionary\n",
    "        cites_per_year_dict = data_dict['cites_per_year']\n",
    "        # Add name to dictionary \n",
    "        cites_per_year_dict['name'] = data_dict['name']\n",
    "        cites_per_year.append(cites_per_year_dict)\n",
    "        \n",
    "        # Create row (dictionary) for output data table\n",
    "        row = {'Name': data_dict['name'], \n",
    "               'Scholar ID': data_dict['scholar_id'], \n",
    "               'Cited by': data_dict.get('citedby', ''), \n",
    "               'Cited by 5 years': data_dict.get('citedby5y',''), \n",
    "               'h-index': data_dict.get('hindex',''), \n",
    "               'h-index 5 years': data_dict.get('hindex5y',''), \n",
    "               'i10-index': data_dict.get('i10index',''),\n",
    "               'i10-index 5 years': data_dict.get('i10index5y',''), \n",
    "               'Publications': pubs, \n",
    "               'Document Count': len(pubs), \n",
    "               'Affiliation': data_dict['affiliation']\n",
    "               }\n",
    "        \n",
    "        # Create list of authors who do not have the specified affiliation\n",
    "        if not any(a in data_dict['affiliation'] for a in affiliations):\n",
    "            row['Warning'] = \"Affiliation does not match!\"\n",
    "            \n",
    "    finally:    \n",
    "        rows.append(row)"
   ]
  },
  {
   "cell_type": "markdown",
   "id": "b1b39653-cbbf-4fa7-81f2-a50d7b33c609",
   "metadata": {},
   "source": [
    "6. Add coauthors to the rows. "
   ]
  },
  {
   "cell_type": "code",
   "execution_count": null,
   "id": "20cea894-1389-42b5-a718-b282dff645e4",
   "metadata": {
    "tags": []
   },
   "outputs": [],
   "source": [
    "# Create dictionary with author names as keys and dictionary (coauthor name as key, number of collaborations as value) \n",
    "#   as value\n",
    "collabs_dict={}\n",
    "for key in pub_authors:\n",
    "    for author in pub_authors[key]:\n",
    "        for coauthor in pub_authors[key]:\n",
    "            if coauthor is not author:\n",
    "                if author not in collabs_dict.keys() or coauthor not in collabs_dict[author].keys():\n",
    "                    collabs_dict.setdefault(author,{})[coauthor]=1\n",
    "                else:\n",
    "                    collabs_dict[author][coauthor]+=1\n",
    "\n",
    "\n",
    "# Write to rows dataframe\n",
    "for row in rows:\n",
    "    if row['Name'] in collabs_dict.keys():\n",
    "        row['Coauthors'] = collabs_dict[row['Name']]"
   ]
  },
  {
   "cell_type": "code",
   "execution_count": null,
   "id": "b99079fe",
   "metadata": {},
   "outputs": [],
   "source": [
    "# Uncomment to create CSV table for viewing publications with shared coauthors\n",
    "\n",
    "coauthored_pubs = [\n",
    "    title\n",
    "    for title, authors in pub_authors.items() \n",
    "    if len(authors) > 1]\n",
    "\n",
    "coauthored_authors = [\n",
    "    authors\n",
    "    for title, authors in pub_authors.items() \n",
    "    if len(authors) > 1]\n",
    "\n",
    "coauthored_df = pd.DataFrame({\"Title\": coauthored_pubs, \"Authors\": coauthored_authors})\n",
    "\n",
    "print(coauthored_df.head())\n",
    "\n",
    "coauthored_df.to_csv(\"shared_pubs.csv\",index=False)"
   ]
  },
  {
   "cell_type": "markdown",
   "id": "ff719ca3-a2b3-4b62-bc57-58ae9913f521",
   "metadata": {},
   "source": [
    "7. Write rows to output CSV file"
   ]
  },
  {
   "cell_type": "code",
   "execution_count": null,
   "id": "765aa4c8-9e4c-45da-a8ff-f7bfddd3a287",
   "metadata": {
    "tags": []
   },
   "outputs": [],
   "source": [
    "# Specify the order of the data. These keys must match the names of the keys in the rows dictionary. \n",
    "keys = ['Name', \n",
    "        'Scholar ID', \n",
    "        'Document Count', \n",
    "        'Cited by', \n",
    "        'Cited by 5 years', \n",
    "        'h-index', \n",
    "        'h-index 5 years', \n",
    "        'i10-index', \n",
    "        'i10-index 5 years', \n",
    "        'Publications', \n",
    "        'Coauthors', \n",
    "        'Affiliation', \n",
    "        'Warning']\n",
    "\n",
    "# This creates/opens the file with filename with the intention to write to the csv_file\n",
    "# The encoding allows the characters to be properly written to the csv_file\n",
    "with open(output_data_csv, mode='w', encoding =\"utf-8\", newline=\"\") as csv_file:\n",
    "    csv_writer = csv.writer(csv_file, delimiter=',', quotechar='\"', quoting=csv.QUOTE_MINIMAL)\n",
    "    dict_writer = csv.DictWriter(csv_file, keys, delimiter=',', quotechar='\"', quoting=csv.QUOTE_MINIMAL)\n",
    "    dict_writer.writeheader()\n",
    "    dict_writer.writerows(rows)"
   ]
  },
  {
   "cell_type": "markdown",
   "id": "d33a406e-0384-45ed-b7f1-505458c4eeb2",
   "metadata": {},
   "source": [
    "8. Create barplot of citations per year. Modify the years and output PDF filename. "
   ]
  },
  {
   "cell_type": "code",
   "execution_count": null,
   "id": "dd757b95-ddaa-46f4-b29a-c362813ded23",
   "metadata": {},
   "outputs": [],
   "source": [
    "# Create citations per year dataframe\n",
    "cites_df = pd.DataFrame(cites_per_year)\n",
    "\n",
    "# Add a totals column\n",
    "cites_df.loc['Total']= cites_df.sum()\n",
    "\n",
    "# !!! Select years to plot\n",
    "cites_df_selected = cites_df[[2018,2019,2020,2021,2022,2023]]\n",
    "\n",
    "# Select the last row (totals) \n",
    "cites_df_total = cites_df_selected.iloc[-1:]\n",
    "\n",
    "# Create barplot\n",
    "years = list(cites_df_total.columns)\n",
    "cites = cites_df_total.values.tolist()[0]\n",
    "plt.bar(years, cites )\n",
    "plt.ylabel('Total Citations')\n",
    "\n",
    "# !!! Modify this - name the output PDF file\n",
    "plt.savefig(\"citations.pdf\")"
   ]
  },
  {
   "cell_type": "markdown",
   "id": "4ab32086-3a34-426a-bf4e-0e2ac7adebf6",
   "metadata": {},
   "source": [
    "9. Create collaboration heatmap"
   ]
  },
  {
   "cell_type": "code",
   "execution_count": null,
   "id": "3097824b-0613-42e5-87c4-ae59d2ee0d11",
   "metadata": {},
   "outputs": [],
   "source": [
    "authors = list(collabs_dict.keys())\n",
    "author_count=len(authors)\n",
    "# Initialize array with zeros. \n",
    "collabs_array = np.zeros((author_count, author_count), dtype=int)\n",
    "\n",
    "# Populate the array with the number of collaborations between authors\n",
    "for i, athr in enumerate(authors):\n",
    "    for j, name in enumerate(authors):\n",
    "        if name in collabs_dict[athr].keys():\n",
    "            collabs_array[i][j] = collabs_dict[athr][name]\n",
    "            \n",
    "# Only display the lower triangle of the matrix\n",
    "mask =  np.tri(collabs_array.shape[0], k=-1)\n",
    "collabs_array = np.ma.array(collabs_array, mask=mask).T\n",
    "\n",
    "# Set up the colourmap \n",
    "cmap = plt.colormaps['nipy_spectral']\n",
    "cmap = cmap.reversed()\n",
    "\n",
    "### Create heatmap ###\n",
    "\n",
    "fig = plt.figure(figsize = (author_count,author_count)) \n",
    "ax = fig.add_subplot(111)\n",
    "im = ax.imshow(collabs_array, cmap=cmap, interpolation='nearest', \n",
    "               #norm=matplotlib.colors.LogNorm()            # Uncomment this if you want a logarithmic colormap\n",
    "              )\n",
    "\n",
    "# Show the ticks\n",
    "ax.set_xticks(np.arange(author_count))\n",
    "ax.set_yticks(np.arange(author_count))\n",
    "\n",
    "# Label the ticks with author names - you can modify the authorname font size here\n",
    "ax.set_xticklabels(authors,fontsize=25)\n",
    "ax.set_yticklabels(authors, fontsize=25)\n",
    "\n",
    "# Rotate and align tick labels.\n",
    "plt.setp(ax.get_xticklabels(), rotation=45, ha=\"right\",\n",
    "         rotation_mode=\"anchor\")\n",
    "\n",
    "# Create numeric annotations.\n",
    "for i in range(author_count):\n",
    "    for j in range(author_count):\n",
    "        text = ax.text(j, i, collabs_array[i, j],\n",
    "                       ha=\"center\", va=\"center\", color=\"w\", fontsize=25)\n",
    "# Fit plot within figure        \n",
    "fig.tight_layout()\n",
    "\n",
    "\n",
    "# Add title - you can change the title and title font size here\n",
    "ax.set_title(\"Publication Collaborations\", fontsize = 50)\n",
    "\n",
    "# Add the colorbar and add ticks - change colorbar label fontsize here\n",
    "cbar = fig.colorbar(im)\n",
    "cbar.ax.tick_params(labelsize=30)\n",
    "\n",
    "# Save the figure as PDF - you can modify the filename here. \n",
    "plt.savefig(\"collabs_heatmap.pdf\")\n",
    "\n",
    "plt.show()\n"
   ]
  }
 ],
 "metadata": {
  "kernelspec": {
   "display_name": "Python 3 (ipykernel)",
   "language": "python",
   "name": "python3"
  },
  "language_info": {
   "codemirror_mode": {
    "name": "ipython",
    "version": 3
   },
   "file_extension": ".py",
   "mimetype": "text/x-python",
   "name": "python",
   "nbconvert_exporter": "python",
   "pygments_lexer": "ipython3",
   "version": "3.10.0"
  }
 },
 "nbformat": 4,
 "nbformat_minor": 5
}
