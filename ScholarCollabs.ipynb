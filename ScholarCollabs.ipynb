{
 "cells": [
  {
   "cell_type": "markdown",
   "id": "4058bbe7-90df-4c95-934b-dd4c17c4c859",
   "metadata": {
    "tags": []
   },
   "source": [
    "![DBC](Images/DBC.png)\n",
    "\n",
    "# Scholar Metrics Scraper: ScholarCollabs notebook\n",
    "\n",
    "**Introduction**\n",
    "\n",
    "This R notebook creates a chord diagram to visualize publication collaborations between coauthors. It creates links between authors and their coauthors from the output CSV file created by the ScholarScraper.ipynb notebook. This notebook should be run after you run the ScholarScraper notebook. This notebook does not group the authors into sub-groups. For this purpose, use GroupedCollabs.ipynb. \n",
    "\n",
    "**Installation and Setup**\n",
    "1. At this point we will assume you have this project loaded in Jupyter and have successfully run the ScholarScraper notebook, which has created an output CSV file with author data. If this is not the case, go to the ScholarScraper.ipynb file and follow the instructions to setup and run. \n",
    "\n",
    "2. Ensure that the CSV file created by ScholarScraper is in the same directory as this notebook. Make sure it has a column labeled 'Name' and a column labeled 'Coauthors'.\n",
    "\n",
    "\n",
    "\n"
   ]
  },
  {
   "cell_type": "markdown",
   "id": "fce6ee32-a70e-404c-8637-5a549b4d3008",
   "metadata": {},
   "source": [
    "**Steps**\n",
    "\n",
    "1. Install and load libraries"
   ]
  },
  {
   "cell_type": "code",
   "execution_count": null,
   "id": "8b9b5d84",
   "metadata": {
    "vscode": {
     "languageId": "r"
    }
   },
   "outputs": [],
   "source": [
    "### Uncomment and install packages if necessary ###\n",
    "# devtools::install_github(\"thomasp85/patchwork\")\n",
    "# devtools::install_github(\"jokergoo/circlize\")\n",
    "# install.packages(\"RColorBrewer\")"
   ]
  },
  {
   "cell_type": "code",
   "execution_count": 2,
   "id": "9830171a",
   "metadata": {
    "vscode": {
     "languageId": "r"
    }
   },
   "outputs": [
    {
     "data": {
      "text/plain": [
       "R version 3.6.3 (2020-02-29)\n",
       "Platform: x86_64-w64-mingw32/x64 (64-bit)\n",
       "Running under: Windows 10 x64 (build 19045)\n",
       "\n",
       "Matrix products: default\n",
       "\n",
       "locale:\n",
       "[1] LC_COLLATE=English_United States.1252 \n",
       "[2] LC_CTYPE=English_United States.1252   \n",
       "[3] LC_MONETARY=English_United States.1252\n",
       "[4] LC_NUMERIC=C                          \n",
       "[5] LC_TIME=English_United States.1252    \n",
       "\n",
       "attached base packages:\n",
       "[1] stats     graphics  grDevices utils     datasets  methods   base     \n",
       "\n",
       "loaded via a namespace (and not attached):\n",
       " [1] compiler_3.6.3  IRdisplay_0.7.0 pbdZMQ_0.3-3    tools_3.6.3    \n",
       " [5] htmltools_0.3.6 base64enc_0.1-3 crayon_1.3.4    Rcpp_1.0.1     \n",
       " [9] uuid_0.1-2      IRkernel_1.3.2  jsonlite_1.6    digest_0.6.18  \n",
       "[13] repr_0.19.2     evaluate_0.21  "
      ]
     },
     "metadata": {},
     "output_type": "display_data"
    },
    {
     "name": "stderr",
     "output_type": "stream",
     "text": [
      "also installing the dependencies 'cli', 'glue', 'lifecycle', 'rlang', 'stringr'\n",
      "\n",
      "\n"
     ]
    },
    {
     "name": "stdout",
     "output_type": "stream",
     "text": [
      "\n",
      "  There are binary versions available but the source versions are later:\n",
      "          binary source needs_compilation\n",
      "cli        2.5.0  3.6.1              TRUE\n",
      "glue       1.4.2  1.6.2              TRUE\n",
      "lifecycle  1.0.0  1.0.3             FALSE\n",
      "rlang     0.4.11  1.1.1              TRUE\n",
      "stringr    1.4.0  1.5.0             FALSE\n",
      "installr  0.23.2 0.23.4             FALSE\n",
      "\n",
      "  Binaries will be installed\n",
      "package 'cli' successfully unpacked and MD5 sums checked\n",
      "package 'glue' successfully unpacked and MD5 sums checked\n",
      "package 'rlang' successfully unpacked and MD5 sums checked\n",
      "\n",
      "The downloaded binary packages are in\n",
      "\tC:\\Users\\caoyut\\AppData\\Local\\Temp\\RtmpegGTr4\\downloaded_packages\n"
     ]
    },
    {
     "name": "stderr",
     "output_type": "stream",
     "text": [
      "installing the source packages 'lifecycle', 'stringr', 'installr'\n",
      "\n",
      "\n",
      "Warning message in install.packages(\"installr\"):\n",
      "\"installation of package 'lifecycle' had non-zero exit status\"\n",
      "Warning message in install.packages(\"installr\"):\n",
      "\"installation of package 'stringr' had non-zero exit status\"\n",
      "Warning message in install.packages(\"installr\"):\n",
      "\"installation of package 'installr' had non-zero exit status\"\n"
     ]
    }
   ],
   "source": [
    "sessionInfo()\n",
    "install.packages(\"installr\")"
   ]
  },
  {
   "cell_type": "code",
   "execution_count": 7,
   "id": "dccfad9e",
   "metadata": {
    "vscode": {
     "languageId": "r"
    }
   },
   "outputs": [
    {
     "name": "stderr",
     "output_type": "stream",
     "text": [
      "also installing the dependencies 'cli', 'rlang'\n",
      "\n",
      "\n"
     ]
    },
    {
     "name": "stdout",
     "output_type": "stream",
     "text": [
      "\n",
      "  There are binary versions available but the source versions are later:\n",
      "          binary source needs_compilation\n",
      "cli        2.5.0  3.6.1              TRUE\n",
      "rlang     0.4.11  1.1.1              TRUE\n",
      "lifecycle  1.0.0  1.0.3             FALSE\n",
      "\n",
      "  Binaries will be installed\n",
      "package 'cli' successfully unpacked and MD5 sums checked\n",
      "package 'rlang' successfully unpacked and MD5 sums checked\n",
      "\n",
      "The downloaded binary packages are in\n",
      "\tC:\\Users\\caoyut\\AppData\\Local\\Temp\\RtmpegGTr4\\downloaded_packages\n"
     ]
    },
    {
     "name": "stderr",
     "output_type": "stream",
     "text": [
      "installing the source package 'lifecycle'\n",
      "\n",
      "\n",
      "Warning message in install.packages(\"lifecycle\"):\n",
      "\"installation of package 'lifecycle' had non-zero exit status\"\n"
     ]
    }
   ],
   "source": [
    "install.packages('lifecycle')"
   ]
  },
  {
   "cell_type": "code",
   "execution_count": null,
   "id": "0b8f7647-2f14-4e3e-99b0-df093190f2ee",
   "metadata": {
    "vscode": {
     "languageId": "r"
    }
   },
   "outputs": [],
   "source": [
    "library(tidyverse)\n",
    "library(viridis)\n",
    "library(patchwork)\n",
    "library(circlize)\n",
    "library(RColorBrewer)"
   ]
  },
  {
   "cell_type": "markdown",
   "id": "79c4c541-2ad8-46e3-a0c1-9f01291fcf68",
   "metadata": {},
   "source": [
    "2. Define the name of the data file (CSV created by Scholar Scraper)\n"
   ]
  },
  {
   "cell_type": "code",
   "execution_count": null,
   "id": "48dd282f-c187-4c92-855d-a42f2c607d86",
   "metadata": {
    "vscode": {
     "languageId": "r"
    }
   },
   "outputs": [],
   "source": [
    "# !!! Modify this to match the name of the CSV file that was created as output form the ScholarScraper notebook\n",
    "ss_output_file = \"ss_output_data.csv\""
   ]
  },
  {
   "cell_type": "markdown",
   "id": "ac35fcda-e203-4f7f-8250-629d7a79ea5c",
   "metadata": {},
   "source": [
    "3. Define the title, colors, and whether you want to create weighted or non-weighted diagram. \n",
    "\n",
    "    View color palettes [here](https://www.r-graph-gallery.com/38-rcolorbrewers-palettes.html)"
   ]
  },
  {
   "cell_type": "code",
   "execution_count": null,
   "id": "cbf220ec-01c2-4bac-aeec-64b01ef9ce4a",
   "metadata": {
    "vscode": {
     "languageId": "r"
    }
   },
   "outputs": [],
   "source": [
    "# !!! Modify the diagram title\n",
    "title = \"Google Scholar Dynamic Brain Circuits Collaborations\"\n",
    "\n",
    "# !!! Modify the colour palette. \n",
    "c_pallete <- brewer.pal(12,\"Paired\")\n",
    "\n",
    "# !!! Modify this - Set to TRUE if you want a weighted diagram or FALSE if you want a non-weighted diagram.\n",
    "weighted = TRUE "
   ]
  },
  {
   "cell_type": "markdown",
   "id": "f6ccaaca-906e-45f0-bff4-be5ebdf206b7",
   "metadata": {},
   "source": [
    "4. Load in collaboration data.\n"
   ]
  },
  {
   "cell_type": "code",
   "execution_count": null,
   "id": "4490937c-f743-4584-b016-785bac8c3777",
   "metadata": {
    "vscode": {
     "languageId": "r"
    }
   },
   "outputs": [],
   "source": [
    "df_collab = read.csv(ss_output_file)"
   ]
  },
  {
   "cell_type": "markdown",
   "id": "32d505af-c7f5-4237-9e25-12a348d808c9",
   "metadata": {},
   "source": [
    "5. Tidy the dataframe"
   ]
  },
  {
   "cell_type": "code",
   "execution_count": null,
   "id": "1db6abb7-5a2e-4ff3-8683-d2a32a80d15b",
   "metadata": {
    "vscode": {
     "languageId": "r"
    }
   },
   "outputs": [],
   "source": [
    "# creating a subset of our survey data that extracts the useful columns. \n",
    "df_collab = subset(df_collab, select = c(Name, Coauthors))\n",
    "\n",
    "# get rid of rows containing NAs\n",
    "df_collab=df_collab[rowSums(is.na(df_collab)) != ncol(df_collab), ]"
   ]
  },
  {
   "cell_type": "markdown",
   "id": "41a47742-2f87-42eb-ad61-c94c7d756bd9",
   "metadata": {},
   "source": [
    "6. Set up the links"
   ]
  },
  {
   "cell_type": "code",
   "execution_count": null,
   "id": "9bf222d0-9e43-4a65-b8be-75c472437150",
   "metadata": {
    "vscode": {
     "languageId": "r"
    }
   },
   "outputs": [],
   "source": [
    "origin = c()\n",
    "destination = c()\n",
    "count = c()\n",
    "\n",
    "for (i in 1:nrow(df_collab)) {\n",
    "  x = df_collab$Name[i]\n",
    "  for (n in 1:nrow(df_collab)) {\n",
    "    if(is.na(df_collab$Coauthors[n]) == FALSE) {\n",
    "      if(str_detect(df_collab$Coauthors[n], x) == TRUE) {\n",
    "        origin = append(origin, df_collab$Name[n])\n",
    "        destination = append(destination, x)\n",
    "#       extracts digits that come after author name in df_collab$Collaborators[n]\n",
    "        count = append(count, strtoi(\n",
    "            str_extract(df_collab$Coauthors[n],paste(\"(?<=\", df_collab$Name[i], \"\\': )\\\\d+\", sep=\"\"))))\n",
    "      }\n",
    "    }\n",
    "  }\n",
    "}\n",
    "\n",
    "edge_l = data.frame(origin, destination, count)\n",
    "# cleaning up the edge list by removing duplicates\n",
    "edge_l = unique(edge_l)\n",
    "edge_l$temp = apply(edge_l, 1, function(x) paste(sort(x), collapse=\"\"))\n",
    "edge_l = edge_l[!duplicated(edge_l$temp), 1:3]\n",
    "                    \n",
    " # create an adjacency list. \n",
    "adjacencyData = data.frame(with(edge_l, table(origin, destination))) \n",
    "                    \n",
    "# set the links to the edge list for a weighted diagram or adjacency list for non-weighted\n",
    "if (weighted == TRUE){\n",
    "    links = edge_l\n",
    "} else {\n",
    "    links = adjacencyData\n",
    "}"
   ]
  },
  {
   "cell_type": "markdown",
   "id": "d5887a64-9e6e-4768-80f3-ff3f7928ccd9",
   "metadata": {},
   "source": [
    "7. Assign a color to each investigator."
   ]
  },
  {
   "cell_type": "code",
   "execution_count": null,
   "id": "9f1bc4f3-c252-43b6-baa9-3c1a896266d6",
   "metadata": {
    "vscode": {
     "languageId": "r"
    }
   },
   "outputs": [],
   "source": [
    "color =  c()\n",
    "\n",
    "for (i in 1:nrow(df_collab)) {\n",
    "    j=i%%12\n",
    "    if(j==0){\n",
    "        j= 12\n",
    "        }\n",
    "      color = append(color,c_pallete[j])\n",
    "}\n",
    "\n",
    "# adding the color column to the dataframe.\n",
    "df_collab$color = color\n",
    "\n",
    "# creating colour_ind structure\n",
    "color_ind = structure(df_collab$color, names = df_collab$Name)"
   ]
  },
  {
   "cell_type": "markdown",
   "id": "9fdd28b7-72f5-46c3-b728-4ebf4daa2b2c",
   "metadata": {},
   "source": [
    "8. Create the chord diagram. Modify the name of the output PDF file. You can make additional optional modifications as well (read the comments below)."
   ]
  },
  {
   "cell_type": "code",
   "execution_count": null,
   "id": "131f81a0-8fd0-46d9-a856-245d27ae912b",
   "metadata": {
    "vscode": {
     "languageId": "r"
    }
   },
   "outputs": [],
   "source": [
    "# Modify this!!!\n",
    "pdf(\"chord_diagram.pdf\") \n",
    "\n",
    "# set up the parameters\n",
    "circos.clear()\n",
    "circos.par(start.degree = 90,gap.degree = 1, \n",
    "           track.margin = c(-0.1, 0.1), \n",
    "           points.overflow.warning = FALSE, canvas.xlim = c(-1.3,1.3),\n",
    "           canvas.ylim = c(-1.3,1.3))\n",
    "par(mar = c(0,0,2,0),xpd = TRUE, cex.main = 1.5)\n",
    "\n",
    "# create the chord diagram\n",
    "chordDiagram(links,\n",
    "              grid.col = color_ind,\n",
    "             transparency = 0.25,\n",
    "             diffHeight  = -0.04,\n",
    "             annotationTrack = \"grid\", \n",
    "             annotationTrackHeight = c(0.05, 0.1),\n",
    "             link.sort = TRUE, \n",
    "             link.largest.ontop = FALSE,\n",
    "              self.link = 1, \n",
    "              small.gap = 1,\n",
    "              big.gap = 1\n",
    ")\n",
    "                    \n",
    "\n",
    "# Add the text and the axis surrounding the diagram.\n",
    "circos.trackPlotRegion(\n",
    "  track.index = 1, \n",
    "  bg.border = NA, \n",
    "  panel.fun = function(x, y) {\n",
    "    \n",
    "    xlim = get.cell.meta.data(\"xlim\")\n",
    "    sector.index = get.cell.meta.data(\"sector.index\")\n",
    "    \n",
    "    # Add names to the sector. \n",
    "    # You can modify the font size of the names by changing cex and the distance between the names\n",
    "    #    and the circle by changing y. \n",
    "    circos.text(\n",
    "      x = mean(xlim), \n",
    "      y = 6, \n",
    "      labels = sector.index, \n",
    "      facing = \"clockwise\", \n",
    "      niceFacing = TRUE,\n",
    "      cex = 0.7,\n",
    "    )\n",
    "    \n",
    "     #Add graduation on axis\n",
    "    circos.axis(\n",
    "      h = \"top\", \n",
    "      labels.cex = 0.001,\n",
    "      minor.ticks = 2, \n",
    "      major.tick.length = 0.1, \n",
    "      labels.niceFacing = FALSE)\n",
    "      \n",
    "  }\n",
    ")\n",
    "\n",
    "\n",
    "\n",
    "# Add the title (user can modify the title in step 3) \n",
    "title(title,outer=FALSE)\n",
    "                    \n",
    "                    \n",
    "dev.off()\n",
    "                    "
   ]
  }
 ],
 "metadata": {
  "kernelspec": {
   "display_name": "R",
   "language": "R",
   "name": "ir"
  },
  "language_info": {
   "codemirror_mode": "r",
   "file_extension": ".r",
   "mimetype": "text/x-r-source",
   "name": "R",
   "pygments_lexer": "r",
   "version": "3.6.3"
  }
 },
 "nbformat": 4,
 "nbformat_minor": 5
}
